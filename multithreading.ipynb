{
 "cells": [
  {
   "cell_type": "markdown",
   "id": "a2e3d9ab-d014-425d-94ff-62e3b849ebbe",
   "metadata": {},
   "source": [
    "## Q1"
   ]
  },
  {
   "cell_type": "markdown",
   "id": "089b79d3-979b-4592-a877-5ea3812fefe0",
   "metadata": {},
   "source": [
    "Multithreading - Multithreading in Python refers to the concurrent execution of multiple threads within a single process.It executes a thread at the same time  in the same core .It can run a single program multiple times.\n",
    "\n",
    "\n",
    "\n",
    "Multithreading is used to achieve concurrency, allowing programs to perform multiple tasks simultaneously, even if the tasks do not require constant CPU processing. \n",
    "\n",
    "\n",
    "The threading module is used to handle threads in Python."
   ]
  },
  {
   "cell_type": "markdown",
   "id": "fe5bd2e4-66e4-480e-8197-e91ac4fad5e3",
   "metadata": {},
   "source": [
    "## Q2"
   ]
  },
  {
   "cell_type": "markdown",
   "id": "c97fb9f6-b60a-4193-8d76-8c2f447c16eb",
   "metadata": {},
   "source": [
    "The threading module in Python is used for working with threads, which are a way to achieve concurrent execution within a single process.\n",
    "\n",
    "\n",
    "1. activeCount():This method is used to get the current number of Thread objects that are active (alive) in the current Python process.\n",
    "\n",
    "2. currentThread(): This method returns the current Thread object corresponding to the caller's thread.\n",
    "\n",
    "\n",
    "3. enumerate(): The enumerate() function returns a list of all Thread objects currently active (alive) in the current Python process. \n",
    "\n",
    "\n"
   ]
  },
  {
   "cell_type": "markdown",
   "id": "93d4eaf0-6b57-4a44-b446-726379b16a4b",
   "metadata": {},
   "source": [
    "## Q3"
   ]
  },
  {
   "cell_type": "markdown",
   "id": "0a130f08-a62b-42b0-b04e-eae7e650ed94",
   "metadata": {},
   "source": [
    "1. run(): By default, the run() method of a Thread object calls the target function specified when the thread was created.\n",
    "\n",
    "\n",
    "2. start(): This method is used to start the execution of the thread.When you call the start() method on a Thread object, it begins executing the target function in a new thread.This method should be called only once.\n",
    "\n",
    "3. join(): This method is used to wait for a thread to complete its execution.\n",
    "\n",
    "4. isAlive(): This method is used to check whether the thread is currently executing."
   ]
  },
  {
   "cell_type": "markdown",
   "id": "7023dfbd-8fde-4664-9acc-ee7fb2d7fc3a",
   "metadata": {},
   "source": [
    "## Q4"
   ]
  },
  {
   "cell_type": "code",
   "execution_count": 1,
   "id": "1b762533-7a71-453a-9b42-80b64ec32cd2",
   "metadata": {},
   "outputs": [],
   "source": [
    "import threading"
   ]
  },
  {
   "cell_type": "code",
   "execution_count": 29,
   "id": "88add220-3d1c-4897-8188-b4b2bb1e68d5",
   "metadata": {},
   "outputs": [
    {
     "name": "stdout",
     "output_type": "stream",
     "text": [
      "4\n",
      "9\n",
      "16\n",
      "25\n",
      "36\n",
      "49\n",
      "64\n",
      "81\n",
      "144\n",
      "---------------------------\n",
      "1000\n",
      "1331\n",
      "1728\n",
      "2197\n",
      "2744\n",
      "3375\n",
      "729\n",
      "512\n"
     ]
    }
   ],
   "source": [
    "def square(n):\n",
    "    print(n**2)\n",
    "\n",
    "def cube(r):\n",
    "    print(r**3)\n",
    "\n",
    "thread1 = [threading.Thread(target=square,args=(i,)) for i in [2,3,4,5,6,7,8,9,12]]\n",
    "thread2 = [threading.Thread(target=cube,args=(j,)) for j in [10,11,12,13,14,15,9,8]]\n",
    "\n",
    "\n",
    "for t in  thread1:\n",
    "    t.start()\n",
    "print('---------------------------')    \n",
    "for t1 in thread2:\n",
    "    t1.start()\n",
    "    "
   ]
  },
  {
   "cell_type": "markdown",
   "id": "c06919a8-1fcf-42b8-9cce-7e3fc50aaac1",
   "metadata": {},
   "source": [
    "## Q5"
   ]
  },
  {
   "cell_type": "markdown",
   "id": "91ebc850-60b5-4c18-a6b7-cae068972e90",
   "metadata": {},
   "source": [
    "Advantages of MultiThreading :\n",
    "\n",
    "1. Concurrency: Multithreading allows multiple tasks to be executed concurrently within a single process. \n",
    "\n",
    "2. Modularity: Multithreading allows you to modularize your code by breaking it into smaller threads that handle specific tasks.\n",
    "\n",
    "\n",
    "Disadvantages of MultiThreading :\n",
    "\n",
    "1. Limited CPU Parallelism: While multithreading can utilize multiple CPU cores for certain tasks, it is limited by the GIL and might not achieve the same level of parallelism as multiprocessing."
   ]
  },
  {
   "cell_type": "markdown",
   "id": "be30c5c3-0b00-4014-be02-72275e7fedfe",
   "metadata": {},
   "source": [
    "## Q6"
   ]
  },
  {
   "cell_type": "markdown",
   "id": "7e78d89c-e437-46e1-8c74-10b34ec746d4",
   "metadata": {},
   "source": [
    "DeadLock : A deadlock is a situation where two or more threads or processes are unable to proceed because each is waiting for a resource that another thread or process holds.\n",
    "\n",
    "Race Condition: A race condition occurs when two or more threads or processes access shared resources concurrently and the final outcome depends on the timing or order of their execution.\n"
   ]
  },
  {
   "cell_type": "code",
   "execution_count": null,
   "id": "2ca5db40-60b4-4a3a-bb5f-7870c488940f",
   "metadata": {},
   "outputs": [],
   "source": []
  }
 ],
 "metadata": {
  "kernelspec": {
   "display_name": "Python 3 (ipykernel)",
   "language": "python",
   "name": "python3"
  },
  "language_info": {
   "codemirror_mode": {
    "name": "ipython",
    "version": 3
   },
   "file_extension": ".py",
   "mimetype": "text/x-python",
   "name": "python",
   "nbconvert_exporter": "python",
   "pygments_lexer": "ipython3",
   "version": "3.10.8"
  }
 },
 "nbformat": 4,
 "nbformat_minor": 5
}
